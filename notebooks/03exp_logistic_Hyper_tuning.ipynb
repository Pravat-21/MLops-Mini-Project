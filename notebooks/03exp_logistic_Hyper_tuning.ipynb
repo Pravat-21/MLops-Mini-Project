{
 "cells": [
  {
   "cell_type": "code",
   "execution_count": 1,
   "id": "3d108a1a",
   "metadata": {},
   "outputs": [],
   "source": [
    "# hyperparameter tuning\n",
    "\n",
    "# Import necessary libraries\n",
    "import mlflow\n",
    "import mlflow.sklearn\n",
    "from sklearn.feature_extraction.text import CountVectorizer, TfidfVectorizer\n",
    "from sklearn.model_selection import train_test_split, GridSearchCV\n",
    "from sklearn.linear_model import LogisticRegression\n",
    "from sklearn.metrics import accuracy_score, precision_score, recall_score, f1_score\n",
    "import pandas as pd\n",
    "import re\n",
    "import string\n",
    "from nltk.corpus import stopwords\n",
    "from nltk.stem import WordNetLemmatizer\n",
    "import numpy as np\n",
    "import os\n",
    "import dagshub\n",
    "import warnings\n",
    "warnings.filterwarnings('ignore')"
   ]
  },
  {
   "cell_type": "code",
   "execution_count": 2,
   "id": "8142a8f8",
   "metadata": {},
   "outputs": [
    {
     "data": {
      "text/html": [
       "<pre style=\"white-space:pre;overflow-x:auto;line-height:normal;font-family:Menlo,'DejaVu Sans Mono',consolas,'Courier New',monospace\">Accessing as Pravat-<span style=\"color: #008080; text-decoration-color: #008080; font-weight: bold\">21</span>\n",
       "</pre>\n"
      ],
      "text/plain": [
       "Accessing as Pravat-\u001b[1;36m21\u001b[0m\n"
      ]
     },
     "metadata": {},
     "output_type": "display_data"
    },
    {
     "data": {
      "text/html": [
       "<pre style=\"white-space:pre;overflow-x:auto;line-height:normal;font-family:Menlo,'DejaVu Sans Mono',consolas,'Courier New',monospace\">Initialized MLflow to track repo <span style=\"color: #008000; text-decoration-color: #008000\">\"Pravat-21/MLops-Mini-Project\"</span>\n",
       "</pre>\n"
      ],
      "text/plain": [
       "Initialized MLflow to track repo \u001b[32m\"Pravat-21/MLops-Mini-Project\"\u001b[0m\n"
      ]
     },
     "metadata": {},
     "output_type": "display_data"
    },
    {
     "data": {
      "text/html": [
       "<pre style=\"white-space:pre;overflow-x:auto;line-height:normal;font-family:Menlo,'DejaVu Sans Mono',consolas,'Courier New',monospace\">Repository Pravat-<span style=\"color: #008080; text-decoration-color: #008080; font-weight: bold\">21</span>/MLops-Mini-Project initialized!\n",
       "</pre>\n"
      ],
      "text/plain": [
       "Repository Pravat-\u001b[1;36m21\u001b[0m/MLops-Mini-Project initialized!\n"
      ]
     },
     "metadata": {},
     "output_type": "display_data"
    }
   ],
   "source": [
    "mlflow.set_tracking_uri('https://dagshub.com/Pravat-21/MLops-Mini-Project.mlflow')\n",
    "dagshub.init(repo_owner='Pravat-21', repo_name='MLops-Mini-Project', mlflow=True)"
   ]
  },
  {
   "cell_type": "code",
   "execution_count": 3,
   "id": "77dfed06",
   "metadata": {},
   "outputs": [],
   "source": [
    "# Load the data\n",
    "df = pd.read_csv('https://raw.githubusercontent.com/campusx-official/jupyter-masterclass/main/tweet_emotions.csv').drop(columns=['tweet_id'])"
   ]
  },
  {
   "cell_type": "code",
   "execution_count": 4,
   "id": "e0d0044a",
   "metadata": {},
   "outputs": [],
   "source": [
    "# Define text preprocessing functions\n",
    "def lemmatization(text):\n",
    "    \"\"\"Lemmatize the text.\"\"\"\n",
    "    lemmatizer = WordNetLemmatizer()\n",
    "    text = text.split()\n",
    "    text = [lemmatizer.lemmatize(word) for word in text]\n",
    "    return \" \".join(text)\n",
    "\n",
    "def remove_stop_words(text):\n",
    "    \"\"\"Remove stop words from the text.\"\"\"\n",
    "    stop_words = set(stopwords.words(\"english\"))\n",
    "    text = [word for word in str(text).split() if word not in stop_words]\n",
    "    return \" \".join(text)\n",
    "\n",
    "def removing_numbers(text):\n",
    "    \"\"\"Remove numbers from the text.\"\"\"\n",
    "    text = ''.join([char for char in text if not char.isdigit()])\n",
    "    return text\n",
    "\n",
    "def lower_case(text):\n",
    "    \"\"\"Convert text to lower case.\"\"\"\n",
    "    text = text.split()\n",
    "    text = [word.lower() for word in text]\n",
    "    return \" \".join(text)\n",
    "\n",
    "def removing_punctuations(text):\n",
    "    \"\"\"Remove punctuations from the text.\"\"\"\n",
    "    text = re.sub('[%s]' % re.escape(string.punctuation), ' ', text)\n",
    "    text = text.replace('؛', \"\")\n",
    "    text = re.sub('\\s+', ' ', text).strip()\n",
    "    return text\n",
    "\n",
    "def removing_urls(text):\n",
    "    \"\"\"Remove URLs from the text.\"\"\"\n",
    "    url_pattern = re.compile(r'https?://\\S+|www\\.\\S+')\n",
    "    return url_pattern.sub(r'', text)\n",
    "\n",
    "def normalize_text(df):\n",
    "    \"\"\"Normalize the text data.\"\"\"\n",
    "    try:\n",
    "        df['content'] = df['content'].apply(lower_case)\n",
    "        df['content'] = df['content'].apply(remove_stop_words)\n",
    "        df['content'] = df['content'].apply(removing_numbers)\n",
    "        df['content'] = df['content'].apply(removing_punctuations)\n",
    "        df['content'] = df['content'].apply(removing_urls)\n",
    "        df['content'] = df['content'].apply(lemmatization)\n",
    "        return df\n",
    "    except Exception as e:\n",
    "        print(f'Error during text normalization: {e}')\n",
    "        raise\n"
   ]
  },
  {
   "cell_type": "code",
   "execution_count": 5,
   "id": "1f78bda4",
   "metadata": {},
   "outputs": [],
   "source": [
    "# Normalize the text data\n",
    "df = normalize_text(df)"
   ]
  },
  {
   "cell_type": "code",
   "execution_count": 6,
   "id": "646f333e",
   "metadata": {},
   "outputs": [],
   "source": [
    "x = df['sentiment'].isin(['happiness','sadness'])\n",
    "df = df[x]"
   ]
  },
  {
   "cell_type": "code",
   "execution_count": 7,
   "id": "ca8d57bb",
   "metadata": {},
   "outputs": [],
   "source": [
    "df['sentiment'] = df['sentiment'].replace({'sadness':0, 'happiness':1})"
   ]
  },
  {
   "cell_type": "code",
   "execution_count": 8,
   "id": "a057aecc",
   "metadata": {},
   "outputs": [],
   "source": [
    "vectorizer = CountVectorizer()\n",
    "X = vectorizer.fit_transform(df['content'])\n",
    "y = df['sentiment']\n",
    "X_train, X_test, y_train, y_test = train_test_split(X, y, test_size=0.2, random_state=42)"
   ]
  },
  {
   "cell_type": "code",
   "execution_count": 9,
   "id": "32c34a94",
   "metadata": {},
   "outputs": [
    {
     "name": "stderr",
     "output_type": "stream",
     "text": [
      "2025/10/21 18:37:58 INFO mlflow.tracking.fluent: Experiment with name 'Logistic Regression & Hyperparameter Tuning - Experiment-3' does not exist. Creating a new experiment.\n"
     ]
    },
    {
     "data": {
      "text/plain": [
       "<Experiment: artifact_location='mlflow-artifacts:/d0143f1101144344939772b6b36f655e', creation_time=1761052078848, experiment_id='2', last_update_time=1761052078848, lifecycle_stage='active', name='Logistic Regression & Hyperparameter Tuning - Experiment-3', tags={}>"
      ]
     },
     "execution_count": 9,
     "metadata": {},
     "output_type": "execute_result"
    }
   ],
   "source": [
    "mlflow.set_experiment(\"Logistic Regression & Hyperparameter Tuning - Experiment-3\")"
   ]
  },
  {
   "cell_type": "code",
   "execution_count": 10,
   "id": "3e4f843e",
   "metadata": {},
   "outputs": [],
   "source": [
    "# Define hyperparameter grid for Logistic Regression\n",
    "param_grid = {\n",
    "    'C': [0.1, 1, 10],\n",
    "    'penalty': ['l1', 'l2'],\n",
    "    'solver': ['liblinear']\n",
    "}\n"
   ]
  },
  {
   "cell_type": "code",
   "execution_count": 11,
   "id": "db5f6a83",
   "metadata": {},
   "outputs": [
    {
     "name": "stdout",
     "output_type": "stream",
     "text": [
      "Mean CV Score: 0.7051810430308207, Std CV Score: 0.014168003094990942\n",
      "Accuracy: 0.7397590361445783\n",
      "Precision: 0.7752027809965237\n",
      "Recall: 0.6591133004926109\n",
      "F1 Score: 0.7124600638977636\n",
      "🏃 View run LR with params: {'C': 0.1, 'penalty': 'l1', 'solver': 'liblinear'} at: https://dagshub.com/Pravat-21/MLops-Mini-Project.mlflow/#/experiments/2/runs/96989f7841634c889854fd3f1350bb23\n",
      "🧪 View experiment at: https://dagshub.com/Pravat-21/MLops-Mini-Project.mlflow/#/experiments/2\n",
      "Mean CV Score: 0.7792109402770179, Std CV Score: 0.010740092596030877\n",
      "Accuracy: 0.7893975903614457\n",
      "Precision: 0.7805825242718447\n",
      "Recall: 0.7921182266009852\n",
      "F1 Score: 0.7863080684596577\n",
      "🏃 View run LR with params: {'C': 0.1, 'penalty': 'l2', 'solver': 'liblinear'} at: https://dagshub.com/Pravat-21/MLops-Mini-Project.mlflow/#/experiments/2/runs/86f5d7ff791d468f92006dc35b8254d0\n",
      "🧪 View experiment at: https://dagshub.com/Pravat-21/MLops-Mini-Project.mlflow/#/experiments/2\n",
      "Mean CV Score: 0.7829215927546672, Std CV Score: 0.008058669641280986\n",
      "Accuracy: 0.7826506024096386\n",
      "Precision: 0.77431906614786\n",
      "Recall: 0.7842364532019704\n",
      "F1 Score: 0.7792462065589819\n",
      "🏃 View run LR with params: {'C': 1, 'penalty': 'l1', 'solver': 'liblinear'} at: https://dagshub.com/Pravat-21/MLops-Mini-Project.mlflow/#/experiments/2/runs/46e1e3c165b247cbad21ab2cfabd4f8d\n",
      "🧪 View experiment at: https://dagshub.com/Pravat-21/MLops-Mini-Project.mlflow/#/experiments/2\n",
      "Mean CV Score: 0.7904116981776645, Std CV Score: 0.010862366536190129\n",
      "Accuracy: 0.7951807228915663\n",
      "Precision: 0.7864077669902912\n",
      "Recall: 0.7980295566502463\n",
      "F1 Score: 0.7921760391198044\n",
      "🏃 View run LR with params: {'C': 1, 'penalty': 'l2', 'solver': 'liblinear'} at: https://dagshub.com/Pravat-21/MLops-Mini-Project.mlflow/#/experiments/2/runs/5da1ca02f36e4499968ff3969608ed7d\n",
      "🧪 View experiment at: https://dagshub.com/Pravat-21/MLops-Mini-Project.mlflow/#/experiments/2\n",
      "Mean CV Score: 0.7719720939142298, Std CV Score: 0.011278932805271468\n",
      "Accuracy: 0.7836144578313253\n",
      "Precision: 0.7818725099601593\n",
      "Recall: 0.7733990147783252\n",
      "F1 Score: 0.7776126795443289\n",
      "🏃 View run LR with params: {'C': 10, 'penalty': 'l1', 'solver': 'liblinear'} at: https://dagshub.com/Pravat-21/MLops-Mini-Project.mlflow/#/experiments/2/runs/02221af1abc94e2594922339149cbca3\n",
      "🧪 View experiment at: https://dagshub.com/Pravat-21/MLops-Mini-Project.mlflow/#/experiments/2\n",
      "Mean CV Score: 0.779151984138562, Std CV Score: 0.00473765823574164\n",
      "Accuracy: 0.7807228915662651\n",
      "Precision: 0.7702702702702703\n",
      "Recall: 0.7862068965517242\n",
      "F1 Score: 0.7781569965870307\n",
      "🏃 View run LR with params: {'C': 10, 'penalty': 'l2', 'solver': 'liblinear'} at: https://dagshub.com/Pravat-21/MLops-Mini-Project.mlflow/#/experiments/2/runs/73357928029e49e69358b0abe39817ed\n",
      "🧪 View experiment at: https://dagshub.com/Pravat-21/MLops-Mini-Project.mlflow/#/experiments/2\n",
      "Best Params: {'C': 1, 'penalty': 'l2', 'solver': 'liblinear'}\n",
      "Best F1 Score: 0.7904116981776645\n"
     ]
    },
    {
     "name": "stderr",
     "output_type": "stream",
     "text": [
      "2025/10/21 18:40:19 WARNING mlflow.models.model: Model logged without a signature and input example. Please set `input_example` parameter when logging the model to auto infer the model signature.\n"
     ]
    },
    {
     "name": "stdout",
     "output_type": "stream",
     "text": [
      "🏃 View run glamorous-dog-310 at: https://dagshub.com/Pravat-21/MLops-Mini-Project.mlflow/#/experiments/2/runs/8bfbb50494ce450bbb9fd621a90a80cd\n",
      "🧪 View experiment at: https://dagshub.com/Pravat-21/MLops-Mini-Project.mlflow/#/experiments/2\n"
     ]
    }
   ],
   "source": [
    "# Start the parent run for hyperparameter tuning\n",
    "with mlflow.start_run():\n",
    "\n",
    "    # Perform grid search\n",
    "    grid_search = GridSearchCV(LogisticRegression(), param_grid, cv=5, scoring='f1', n_jobs=-1)\n",
    "    grid_search.fit(X_train, y_train)\n",
    "\n",
    "    # Log each parameter combination as a child run\n",
    "    for params, mean_score, std_score in zip(grid_search.cv_results_['params'], grid_search.cv_results_['mean_test_score'], grid_search.cv_results_['std_test_score']):\n",
    "        with mlflow.start_run(run_name=f\"LR with params: {params}\", nested=True):\n",
    "            model = LogisticRegression(**params)\n",
    "            model.fit(X_train, y_train)\n",
    "            \n",
    "            # Model evaluation\n",
    "            y_pred = model.predict(X_test)\n",
    "            accuracy = accuracy_score(y_test, y_pred)\n",
    "            precision = precision_score(y_test, y_pred)\n",
    "            recall = recall_score(y_test, y_pred)\n",
    "            f1 = f1_score(y_test, y_pred)\n",
    "            \n",
    "            # Log parameters and metrics\n",
    "            mlflow.log_params(params)\n",
    "            mlflow.log_metric(\"mean_cv_score\", mean_score)\n",
    "            mlflow.log_metric(\"std_cv_score\", std_score)\n",
    "            mlflow.log_metric(\"accuracy\", accuracy)\n",
    "            mlflow.log_metric(\"precision\", precision)\n",
    "            mlflow.log_metric(\"recall\", recall)\n",
    "            mlflow.log_metric(\"f1_score\", f1)\n",
    "            \n",
    "            \n",
    "            # Print the results for verification\n",
    "            print(f\"Mean CV Score: {mean_score}, Std CV Score: {std_score}\")\n",
    "            print(f\"Accuracy: {accuracy}\")\n",
    "            print(f\"Precision: {precision}\")\n",
    "            print(f\"Recall: {recall}\")\n",
    "            print(f\"F1 Score: {f1}\")\n",
    "\n",
    "    # Log the best run details in the parent run\n",
    "    best_params = grid_search.best_params_\n",
    "    best_score = grid_search.best_score_\n",
    "    mlflow.log_params(best_params)\n",
    "    mlflow.log_metric(\"best_f1_score\", best_score)\n",
    "    \n",
    "    print(f\"Best Params: {best_params}\")\n",
    "    print(f\"Best F1 Score: {best_score}\")\n",
    "\n",
    "    # Save and log the notebook\n",
    "    #mlflow.log_artifact(__file__)\n",
    "\n",
    "    # Log model\n",
    "    mlflow.sklearn.log_model(grid_search.best_estimator_, \"model\")"
   ]
  },
  {
   "cell_type": "code",
   "execution_count": null,
   "id": "edc463c6",
   "metadata": {},
   "outputs": [],
   "source": []
  }
 ],
 "metadata": {
  "kernelspec": {
   "display_name": "venv (3.13.3)",
   "language": "python",
   "name": "python3"
  },
  "language_info": {
   "codemirror_mode": {
    "name": "ipython",
    "version": 3
   },
   "file_extension": ".py",
   "mimetype": "text/x-python",
   "name": "python",
   "nbconvert_exporter": "python",
   "pygments_lexer": "ipython3",
   "version": "3.13.3"
  }
 },
 "nbformat": 4,
 "nbformat_minor": 5
}
